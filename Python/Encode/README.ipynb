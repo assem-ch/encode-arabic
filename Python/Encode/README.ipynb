{
 "cells": [
  {
   "cell_type": "markdown",
   "metadata": {},
   "source": [
    "<img src=\"../../encode-arabic.svg\" align=\"right\" width=\"10%\">\n",
    "\n",
    "# Encode Arabic / Python"
   ]
  },
  {
   "cell_type": "markdown",
   "metadata": {},
   "source": [
    "You can enjoy the [Python interface to Encode Arabic](http://github.com/otakar-smrz/encode-arabic/tree/master/Python/Encode/Encode/Arabic/__init__.py) from within [IPython](http://ipython.org) or [Jupyter Notebook](http://jupyter.org).\n",
    "\n",
    "    python setup.py install\n",
    "    ipython notebook README.ipynb\n",
    "\n",
    "This notebook focuses on using Encode Arabic from within Python, assuming the `encode` and `decode` executables are installed. You can consult the [Encode Arabic / Haskell](http://github.com/otakar-smrz/encode-arabic/tree/master/Haskell/Encode/README.ipynb) notebook for details."
   ]
  },
  {
   "cell_type": "code",
   "execution_count": 1,
   "metadata": {
    "collapsed": false
   },
   "outputs": [
    {
     "name": "stdout",
     "output_type": "stream",
     "text": [
      "~/.cabal/bin/encode\r\n",
      "~/.cabal/bin/decode\r\n"
     ]
    }
   ],
   "source": [
    "! which encode decode                                        | perl -pe 's{'$HOME'}{~}'  # '~/' is your home directory"
   ]
  },
  {
   "cell_type": "code",
   "execution_count": 2,
   "metadata": {
    "collapsed": false
   },
   "outputs": [
    {
     "name": "stdout",
     "output_type": "stream",
     "text": [
      "~/.cabal/bin\r\n"
     ]
    }
   ],
   "source": [
    "! echo $PATH | tr ':' \"\\n\" | grep $(dirname $(which encode)) | perl -pe 's{'$HOME'}{~}'  # '~/' is your home directory"
   ]
  },
  {
   "cell_type": "code",
   "execution_count": 3,
   "metadata": {
    "collapsed": false
   },
   "outputs": [],
   "source": [
    "import Encode.Arabic"
   ]
  },
  {
   "cell_type": "code",
   "execution_count": 4,
   "metadata": {
    "collapsed": true
   },
   "outputs": [],
   "source": [
    "text= \"'ahlaN wa-sahlaN\""
   ]
  },
  {
   "cell_type": "code",
   "execution_count": 5,
   "metadata": {
    "collapsed": false
   },
   "outputs": [
    {
     "data": {
      "text/plain": [
       "u'\\u0623\\u064e\\u0647\\u0644\\u064b\\u0627 \\u0648\\u064e\\u0633\\u064e\\u0647\\u0644\\u064b\\u0627'"
      ]
     },
     "execution_count": 5,
     "metadata": {},
     "output_type": "execute_result"
    }
   ],
   "source": [
    "text.decode(\"tex\")"
   ]
  },
  {
   "cell_type": "code",
   "execution_count": 6,
   "metadata": {
    "collapsed": false,
    "slideshow": {
     "slide_type": "-"
    }
   },
   "outputs": [
    {
     "name": "stdout",
     "output_type": "stream",
     "text": [
      "أَهلًا وَسَهلًا\n"
     ]
    }
   ],
   "source": [
    "print text.decode(\"tex\")"
   ]
  },
  {
   "cell_type": "code",
   "execution_count": 7,
   "metadata": {
    "collapsed": false
   },
   "outputs": [
    {
     "data": {
      "text/plain": [
       "'OahlFA wasahlFA'"
      ]
     },
     "execution_count": 7,
     "metadata": {},
     "output_type": "execute_result"
    }
   ],
   "source": [
    "text.decode(\"tex\").encode(\"buckwalter\")"
   ]
  },
  {
   "cell_type": "code",
   "execution_count": 8,
   "metadata": {
    "collapsed": false
   },
   "outputs": [
    {
     "data": {
      "text/plain": [
       "'\\xc3\\x82ahl\\xc3\\xa3A wasahl\\xc3\\xa3A'"
      ]
     },
     "execution_count": 8,
     "metadata": {},
     "output_type": "execute_result"
    }
   ],
   "source": [
    "text.decode(\"tex\").encode(\"habash\")"
   ]
  },
  {
   "cell_type": "code",
   "execution_count": 9,
   "metadata": {
    "collapsed": false
   },
   "outputs": [
    {
     "data": {
      "text/plain": [
       "u'\\xc2ahl\\xe3A wasahl\\xe3A'"
      ]
     },
     "execution_count": 9,
     "metadata": {},
     "output_type": "execute_result"
    }
   ],
   "source": [
    "text.decode(\"tex\").encode(\"habash\").decode(\"utf-8\")"
   ]
  },
  {
   "cell_type": "code",
   "execution_count": 10,
   "metadata": {
    "collapsed": false
   },
   "outputs": [
    {
     "name": "stdout",
     "output_type": "stream",
     "text": [
      "ÂahlãA wasahlãA\n"
     ]
    }
   ],
   "source": [
    "print text.decode(\"tex\").encode(\"habash\")"
   ]
  },
  {
   "cell_type": "code",
   "execution_count": 11,
   "metadata": {
    "collapsed": true
   },
   "outputs": [],
   "source": [
    "import Encode.Arabic as arabic"
   ]
  },
  {
   "cell_type": "code",
   "execution_count": 12,
   "metadata": {
    "collapsed": false
   },
   "outputs": [
    {
     "name": "stdout",
     "output_type": "stream",
     "text": [
      "Encode Arabic (C) 2016-2005 Otakar Smrz\n",
      "GNU General Public License http://www.gnu.org/licenses/\n",
      "\n",
      "Encode Arabic 1.3.9 June 2016\n",
      "\n"
     ]
    }
   ],
   "source": [
    "print arabic.encode(\"[mode]\", \"[text]\", \"--version\")"
   ]
  },
  {
   "cell_type": "code",
   "execution_count": 13,
   "metadata": {
    "collapsed": false
   },
   "outputs": [
    {
     "name": "stdout",
     "output_type": "stream",
     "text": [
      "Encode Arabic (C) 2016-2005 Otakar Smrz\n",
      "GNU General Public License http://www.gnu.org/licenses/\n",
      "\n",
      "           http://github.com/otakar-smrz/encode-arabic/\n",
      "                           http://encode-arabic.sf.net/\n",
      "                             <otakar-smrz users.sf.net>\n",
      "\n",
      "decode [--OPTIONS] [ENCODING]\n",
      "\n",
      "  -h       --help         show usage information\n",
      "  -l       --lines        use line-oriented mode\n",
      "  -p text  --prefix=text  prefix input with text\n",
      "  -s text  --suffix=text  suffix input with text\n",
      "  -v       --version      show program's version\n",
      "\n"
     ]
    }
   ],
   "source": [
    "print arabic.decode(\"[mode]\", \"[text]\", \"--help\")"
   ]
  },
  {
   "cell_type": "code",
   "execution_count": 14,
   "metadata": {
    "collapsed": false
   },
   "outputs": [
    {
     "data": {
      "text/plain": [
       "'OahlFA wasahlFA'"
      ]
     },
     "execution_count": 14,
     "metadata": {},
     "output_type": "execute_result"
    }
   ],
   "source": [
    "arabic.encode(\"buckwalter\", arabic.decode(\"tex\", text))"
   ]
  },
  {
   "cell_type": "code",
   "execution_count": 15,
   "metadata": {
    "collapsed": true
   },
   "outputs": [],
   "source": [
    "forms = \"\"\"qara'a qara'at quri'a quri'at\n",
    "           yaqra'u taqra'u yuqra'u tuqra'u\n",
    "           iqra' iqra'I iqra'A iqra'UW iqra'na\n",
    "           'aqra'a 'aqra'at 'uqri'a 'uqri'at\n",
    "           yuqri'u tuqri'u yuqra'u tuqra'u\n",
    "           'aqri' 'aqri'I 'aqri'A 'aqri'UW 'aqri'na\"\"\".split()"
   ]
  },
  {
   "cell_type": "code",
   "execution_count": 16,
   "metadata": {
    "collapsed": false
   },
   "outputs": [
    {
     "name": "stdout",
     "output_type": "stream",
     "text": [
      "CPU times: user 1.07 ms, sys: 4.03 ms, total: 5.09 ms\n",
      "Wall time: 252 ms\n"
     ]
    }
   ],
   "source": [
    "%%time\n",
    "\n",
    "orth_x = \"\\n\".join(forms).decode(\"tex\").split(\"\\n\")\n",
    "phon_x = \"\\n\".join(forms).decode(\"zdmg\").split(\"\\n\")"
   ]
  },
  {
   "cell_type": "code",
   "execution_count": 17,
   "metadata": {
    "collapsed": false
   },
   "outputs": [
    {
     "name": "stdout",
     "output_type": "stream",
     "text": [
      "CPU times: user 1.38 ms, sys: 4.61 ms, total: 5.98 ms\n",
      "Wall time: 235 ms\n"
     ]
    }
   ],
   "source": [
    "%%time\n",
    "\n",
    "orth_y = arabic.decode(\"tex\", \"\\n\".join(forms), \"--lines\").split(\"\\n\")\n",
    "phon_y = arabic.decode(\"zdmg\", \"\\n\".join(forms), \"--lines\").split(\"\\n\")"
   ]
  },
  {
   "cell_type": "code",
   "execution_count": 18,
   "metadata": {
    "collapsed": false
   },
   "outputs": [
    {
     "name": "stdout",
     "output_type": "stream",
     "text": [
      "قَرَأَ\tqaraʾa      \t   \tقَرَأَ\tqaraʾa      \n",
      "قَرَأَت\tqaraʾat     \t   \tقَرَأَت\tqaraʾat     \n",
      "قُرِئَ\tquriʾa      \t   \tقُرِئَ\tquriʾa      \n",
      "قُرِئَت\tquriʾat     \t   \tقُرِئَت\tquriʾat     \n",
      "يَقرَأُ\tyaqraʾu     \t   \tيَقرَأُ\tyaqraʾu     \n",
      "تَقرَأُ\ttaqraʾu     \t   \tتَقرَأُ\ttaqraʾu     \n",
      "يُقرَأُ\tyuqraʾu     \t   \tيُقرَأُ\tyuqraʾu     \n",
      "تُقرَأُ\ttuqraʾu     \t   \tتُقرَأُ\ttuqraʾu     \n",
      "اقرَأ\tʼqraʾ       \tO P\tاِقرَأ\tiqraʾ       \n",
      "اقرَئِي\tiqraʾī     \tO  \tاِقرَئِي\tiqraʾī     \n",
      "اقرَآ\tʼqraʾā     \tO P\tاِقرَآ\tiqraʾā     \n",
      "اقرَؤُوا\tʼqraʾū     \tO P\tاِقرَؤُوا\tiqraʾū     \n",
      "اقرَأنَ\tiqraʾna     \tO  \tاِقرَأنَ\tiqraʾna     \n",
      "أَقرَأَ\tʾaqraʾa     \t   \tأَقرَأَ\tʾaqraʾa     \n",
      "أَقرَأَت\tʾaqraʾat    \t   \tأَقرَأَت\tʾaqraʾat    \n",
      "أُقرِئَ\tʾuqriʾa     \t   \tأُقرِئَ\tʾuqriʾa     \n",
      "أُقرِئَت\tʾuqriʾat    \t   \tأُقرِئَت\tʾuqriʾat    \n",
      "يُقرِئُ\tyuqriʾu     \t   \tيُقرِئُ\tyuqriʾu     \n",
      "تُقرِئُ\ttuqriʾu     \t   \tتُقرِئُ\ttuqriʾu     \n",
      "يُقرَأُ\tyuqraʾu     \t   \tيُقرَأُ\tyuqraʾu     \n",
      "تُقرَأُ\ttuqraʾu     \t   \tتُقرَأُ\ttuqraʾu     \n",
      "أَقرِئ\tʾaqriʾ      \t   \tأَقرِئ\tʾaqriʾ      \n",
      "أَقرِئِي\tʾaqriʾī    \t   \tأَقرِئِي\tʾaqriʾī    \n",
      "أَقرِئَا\tʾaqriʾā    \t   \tأَقرِئَا\tʾaqriʾā    \n",
      "أَقرِئُوا\tʾaqriʾū    \t   \tأَقرِئُوا\tʾaqriʾū    \n",
      "أَقرِئنَ\tʾaqriʾna    \t   \tأَقرِئنَ\tʾaqriʾna    \n"
     ]
    }
   ],
   "source": [
    "print \"\\n\".join(\"\\t\".join([ox, px.ljust(12), \n",
    "                           \" \".join([\"O\" if ox != oy else \" \",\n",
    "                                     \"P\" if px != py else \" \"]), \n",
    "                           oy, py.ljust(12)]) \n",
    "                for (ox, px, oy, py) in zip(orth_x, phon_x, orth_y, phon_y) )"
   ]
  }
 ],
 "metadata": {
  "kernelspec": {
   "display_name": "Python 2",
   "language": "python",
   "name": "python2"
  },
  "language_info": {
   "codemirror_mode": {
    "name": "ipython",
    "version": 2
   },
   "file_extension": ".py",
   "mimetype": "text/x-python",
   "name": "python",
   "nbconvert_exporter": "python",
   "pygments_lexer": "ipython2",
   "version": "2.7.10"
  }
 },
 "nbformat": 4,
 "nbformat_minor": 0
}
